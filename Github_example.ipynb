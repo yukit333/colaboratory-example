{
  "nbformat": 4,
  "nbformat_minor": 0,
  "metadata": {
    "colab": {
      "name": "Github-example.ipynb",
      "provenance": [],
      "authorship_tag": "ABX9TyPDyVQmfa6LcEKBOGTlwjx9"
    },
    "kernelspec": {
      "name": "python3",
      "display_name": "Python 3"
    }
  },
  "cells": [
    {
      "cell_type": "code",
      "metadata": {
        "colab": {
          "base_uri": "https://localhost:8080/"
        },
        "id": "W_EdDSfkOkF9",
        "outputId": "2d89de25-5455-4c74-f3f2-de7bbb7c9f61"
      },
      "source": [
        "!git clone https://github.com/yukit333/colaboratory-example"
      ],
      "execution_count": null,
      "outputs": [
        {
          "output_type": "stream",
          "text": [
            "Cloning into 'colaboratory-example'...\n",
            "remote: Enumerating objects: 4, done.\u001b[K\n",
            "remote: Counting objects: 100% (4/4), done.\u001b[K\n",
            "remote: Compressing objects: 100% (4/4), done.\u001b[K\n",
            "remote: Total 4 (delta 0), reused 0 (delta 0), pack-reused 0\u001b[K\n",
            "Unpacking objects: 100% (4/4), done.\n"
          ],
          "name": "stdout"
        }
      ]
    },
    {
      "cell_type": "markdown",
      "metadata": {
        "id": "p-cBCOknTNll"
      },
      "source": [
        "### Add new text"
      ]
    },
    {
      "cell_type": "code",
      "metadata": {
        "colab": {
          "base_uri": "https://localhost:8080/"
        },
        "id": "KkaeNyfRPEjs",
        "outputId": "218b0285-804a-4314-f81b-6af95bdcb97c"
      },
      "source": [
        "import os\n",
        "path = '/colaboratory-example'\n",
        "\n",
        "#作業ディレクトリをpathに移動する\n",
        "# os.chdir(path)\n",
        "\n",
        "#作業ディレクトリ直下のファイルを確認\n",
        "!ls"
      ],
      "execution_count": null,
      "outputs": [
        {
          "output_type": "stream",
          "text": [
            "colaboratory-example  sample_data\n"
          ],
          "name": "stdout"
        }
      ]
    }
  ]
}