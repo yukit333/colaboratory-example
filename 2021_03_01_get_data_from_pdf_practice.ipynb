{
  "nbformat": 4,
  "nbformat_minor": 0,
  "metadata": {
    "colab": {
      "name": "2021-03-01_get-data-from-pdf-practice",
      "provenance": [],
      "collapsed_sections": [
        "5nsm3gwrmyFN"
      ],
      "authorship_tag": "ABX9TyNiuJAiDpuEhTWf+krQtZ5X"
    },
    "kernelspec": {
      "name": "python3",
      "display_name": "Python 3"
    }
  },
  "cells": [
    {
      "cell_type": "markdown",
      "metadata": {
        "id": "zBiHImu1nrOr"
      },
      "source": [
        "Pythonでpdfデータにあるテーブルデータを一括でcsvに直す方法 - Qiita  \n",
        "https://qiita.com/risako_/items/0c625a6bcb1cd80cf259  \n",
        "\n",
        "tabula_example.ipynb - Colaboratory  \n",
        "https://colab.research.google.com/github/chezou/tabula-py/blob/master/examples/tabula_example.ipynb#scrollTo=q6FGPenCluQz\n",
        "\n",
        "\n",
        "----"
      ]
    },
    {
      "cell_type": "markdown",
      "metadata": {
        "id": "5nsm3gwrmyFN"
      },
      "source": [
        "#Setup"
      ]
    },
    {
      "cell_type": "code",
      "metadata": {
        "id": "5h6hSt45muLj"
      },
      "source": [
        "!pip install -q tabula-py"
      ],
      "execution_count": 178,
      "outputs": []
    },
    {
      "cell_type": "code",
      "metadata": {
        "id": "4CCmLDzInD5O"
      },
      "source": [
        "import tabula\n",
        "import pandas as pd"
      ],
      "execution_count": 179,
      "outputs": []
    },
    {
      "cell_type": "markdown",
      "metadata": {
        "id": "awUSWRdZnIL-"
      },
      "source": [
        "# Main"
      ]
    },
    {
      "cell_type": "code",
      "metadata": {
        "colab": {
          "base_uri": "https://localhost:8080/",
          "height": 357
        },
        "id": "lEtB89evmUNq",
        "outputId": "e4d115f6-30bf-422d-da60-2c5eab2c5206"
      },
      "source": [
        "# 対象のpdfはlattice=Trueにしないとデータ欠損が起きる\n",
        "target_year = 2019\n",
        "pdf_path = 'http://www.eiren.org/toukei/img/eiren_kosyu/data_' + str(target_year) + '.pdf'\n",
        "df = tabula.read_pdf(pdf_path, lattice=True)[0]\n",
        "\n",
        "print(df.columns)\n",
        "\n",
        "# Rename columns\n",
        "df = df.rename(columns={'順位': 'rank', '公開月': 'release_date', '作      品      名': 'title', '興収(単位:億円)': 'box_office', '配給会社': 'agency'})\n",
        "df.head()"
      ],
      "execution_count": 180,
      "outputs": [
        {
          "output_type": "stream",
          "text": [
            "'pages' argument isn't specified.Will extract only from page 1 by default.\n",
            "Got stderr: Mar 02, 2021 1:59:00 AM org.apache.fontbox.ttf.CmapSubtable processSubtype14\n",
            "WARNING: Format 14 cmap table is not supported and will be ignored\n",
            "Mar 02, 2021 1:59:00 AM org.apache.fontbox.ttf.CmapSubtable processSubtype14\n",
            "WARNING: Format 14 cmap table is not supported and will be ignored\n",
            "Mar 02, 2021 1:59:00 AM org.apache.fontbox.ttf.CmapSubtable processSubtype14\n",
            "WARNING: Format 14 cmap table is not supported and will be ignored\n",
            "\n"
          ],
          "name": "stderr"
        },
        {
          "output_type": "stream",
          "text": [
            "Index(['順位', '公開月', '作      品      名', '興収(単位:億円)', '配給会社'], dtype='object')\n"
          ],
          "name": "stdout"
        },
        {
          "output_type": "execute_result",
          "data": {
            "text/html": [
              "<div>\n",
              "<style scoped>\n",
              "    .dataframe tbody tr th:only-of-type {\n",
              "        vertical-align: middle;\n",
              "    }\n",
              "\n",
              "    .dataframe tbody tr th {\n",
              "        vertical-align: top;\n",
              "    }\n",
              "\n",
              "    .dataframe thead th {\n",
              "        text-align: right;\n",
              "    }\n",
              "</style>\n",
              "<table border=\"1\" class=\"dataframe\">\n",
              "  <thead>\n",
              "    <tr style=\"text-align: right;\">\n",
              "      <th></th>\n",
              "      <th>rank</th>\n",
              "      <th>release_date</th>\n",
              "      <th>title</th>\n",
              "      <th>box_office</th>\n",
              "      <th>agency</th>\n",
              "    </tr>\n",
              "  </thead>\n",
              "  <tbody>\n",
              "    <tr>\n",
              "      <th>0</th>\n",
              "      <td>1</td>\n",
              "      <td>7月</td>\n",
              "      <td>天気の子</td>\n",
              "      <td>141.9</td>\n",
              "      <td>東宝</td>\n",
              "    </tr>\n",
              "    <tr>\n",
              "      <th>1</th>\n",
              "      <td>2</td>\n",
              "      <td>4月</td>\n",
              "      <td>名探偵コナン 紺青の拳(フィスト)</td>\n",
              "      <td>93.7</td>\n",
              "      <td>東宝</td>\n",
              "    </tr>\n",
              "    <tr>\n",
              "      <th>2</th>\n",
              "      <td>3</td>\n",
              "      <td>4月</td>\n",
              "      <td>キングダム</td>\n",
              "      <td>57.3</td>\n",
              "      <td>東宝/SPE</td>\n",
              "    </tr>\n",
              "    <tr>\n",
              "      <th>3</th>\n",
              "      <td>4</td>\n",
              "      <td>8月</td>\n",
              "      <td>劇場版「ONE PIECE STAMPEDE」</td>\n",
              "      <td>55.5</td>\n",
              "      <td>東映</td>\n",
              "    </tr>\n",
              "    <tr>\n",
              "      <th>4</th>\n",
              "      <td>5</td>\n",
              "      <td>3月</td>\n",
              "      <td>映画ドラえもん のび太の月面探査記</td>\n",
              "      <td>50.2</td>\n",
              "      <td>東宝</td>\n",
              "    </tr>\n",
              "  </tbody>\n",
              "</table>\n",
              "</div>"
            ],
            "text/plain": [
              "   rank release_date                    title  box_office  agency\n",
              "0     1           7月                     天気の子       141.9      東宝\n",
              "1     2           4月        名探偵コナン 紺青の拳(フィスト)        93.7      東宝\n",
              "2     3           4月                    キングダム        57.3  東宝/SPE\n",
              "3     4           8月  劇場版「ONE PIECE STAMPEDE」        55.5      東映\n",
              "4     5           3月        映画ドラえもん のび太の月面探査記        50.2      東宝"
            ]
          },
          "metadata": {
            "tags": []
          },
          "execution_count": 180
        }
      ]
    },
    {
      "cell_type": "code",
      "metadata": {
        "colab": {
          "base_uri": "https://localhost:8080/",
          "height": 235
        },
        "id": "awDw4ewKnbIG",
        "outputId": "43f9dad8-a3b2-4e5f-d2e1-b3c08eab379b"
      },
      "source": [
        "df.set_index('rank', inplace=True)\n",
        "df.head()"
      ],
      "execution_count": 181,
      "outputs": [
        {
          "output_type": "execute_result",
          "data": {
            "text/html": [
              "<div>\n",
              "<style scoped>\n",
              "    .dataframe tbody tr th:only-of-type {\n",
              "        vertical-align: middle;\n",
              "    }\n",
              "\n",
              "    .dataframe tbody tr th {\n",
              "        vertical-align: top;\n",
              "    }\n",
              "\n",
              "    .dataframe thead th {\n",
              "        text-align: right;\n",
              "    }\n",
              "</style>\n",
              "<table border=\"1\" class=\"dataframe\">\n",
              "  <thead>\n",
              "    <tr style=\"text-align: right;\">\n",
              "      <th></th>\n",
              "      <th>release_date</th>\n",
              "      <th>title</th>\n",
              "      <th>box_office</th>\n",
              "      <th>agency</th>\n",
              "    </tr>\n",
              "    <tr>\n",
              "      <th>rank</th>\n",
              "      <th></th>\n",
              "      <th></th>\n",
              "      <th></th>\n",
              "      <th></th>\n",
              "    </tr>\n",
              "  </thead>\n",
              "  <tbody>\n",
              "    <tr>\n",
              "      <th>1</th>\n",
              "      <td>7月</td>\n",
              "      <td>天気の子</td>\n",
              "      <td>141.9</td>\n",
              "      <td>東宝</td>\n",
              "    </tr>\n",
              "    <tr>\n",
              "      <th>2</th>\n",
              "      <td>4月</td>\n",
              "      <td>名探偵コナン 紺青の拳(フィスト)</td>\n",
              "      <td>93.7</td>\n",
              "      <td>東宝</td>\n",
              "    </tr>\n",
              "    <tr>\n",
              "      <th>3</th>\n",
              "      <td>4月</td>\n",
              "      <td>キングダム</td>\n",
              "      <td>57.3</td>\n",
              "      <td>東宝/SPE</td>\n",
              "    </tr>\n",
              "    <tr>\n",
              "      <th>4</th>\n",
              "      <td>8月</td>\n",
              "      <td>劇場版「ONE PIECE STAMPEDE」</td>\n",
              "      <td>55.5</td>\n",
              "      <td>東映</td>\n",
              "    </tr>\n",
              "    <tr>\n",
              "      <th>5</th>\n",
              "      <td>3月</td>\n",
              "      <td>映画ドラえもん のび太の月面探査記</td>\n",
              "      <td>50.2</td>\n",
              "      <td>東宝</td>\n",
              "    </tr>\n",
              "  </tbody>\n",
              "</table>\n",
              "</div>"
            ],
            "text/plain": [
              "     release_date                    title  box_office  agency\n",
              "rank                                                          \n",
              "1              7月                     天気の子       141.9      東宝\n",
              "2              4月        名探偵コナン 紺青の拳(フィスト)        93.7      東宝\n",
              "3              4月                    キングダム        57.3  東宝/SPE\n",
              "4              8月  劇場版「ONE PIECE STAMPEDE」        55.5      東映\n",
              "5              3月        映画ドラえもん のび太の月面探査記        50.2      東宝"
            ]
          },
          "metadata": {
            "tags": []
          },
          "execution_count": 181
        }
      ]
    },
    {
      "cell_type": "code",
      "metadata": {
        "colab": {
          "base_uri": "https://localhost:8080/",
          "height": 235
        },
        "id": "DV3uhTlqaYi8",
        "outputId": "df3ef3f7-b42a-470b-da67-38d746f96e40"
      },
      "source": [
        "# 興行収入を決算資料などと合わせやすいように百万円の単位に変換\n",
        "df['box_office'] = df['box_office'].apply(lambda x: x * 100).apply(int)\n",
        "df.head()"
      ],
      "execution_count": 182,
      "outputs": [
        {
          "output_type": "execute_result",
          "data": {
            "text/html": [
              "<div>\n",
              "<style scoped>\n",
              "    .dataframe tbody tr th:only-of-type {\n",
              "        vertical-align: middle;\n",
              "    }\n",
              "\n",
              "    .dataframe tbody tr th {\n",
              "        vertical-align: top;\n",
              "    }\n",
              "\n",
              "    .dataframe thead th {\n",
              "        text-align: right;\n",
              "    }\n",
              "</style>\n",
              "<table border=\"1\" class=\"dataframe\">\n",
              "  <thead>\n",
              "    <tr style=\"text-align: right;\">\n",
              "      <th></th>\n",
              "      <th>release_date</th>\n",
              "      <th>title</th>\n",
              "      <th>box_office</th>\n",
              "      <th>agency</th>\n",
              "    </tr>\n",
              "    <tr>\n",
              "      <th>rank</th>\n",
              "      <th></th>\n",
              "      <th></th>\n",
              "      <th></th>\n",
              "      <th></th>\n",
              "    </tr>\n",
              "  </thead>\n",
              "  <tbody>\n",
              "    <tr>\n",
              "      <th>1</th>\n",
              "      <td>7月</td>\n",
              "      <td>天気の子</td>\n",
              "      <td>14190</td>\n",
              "      <td>東宝</td>\n",
              "    </tr>\n",
              "    <tr>\n",
              "      <th>2</th>\n",
              "      <td>4月</td>\n",
              "      <td>名探偵コナン 紺青の拳(フィスト)</td>\n",
              "      <td>9370</td>\n",
              "      <td>東宝</td>\n",
              "    </tr>\n",
              "    <tr>\n",
              "      <th>3</th>\n",
              "      <td>4月</td>\n",
              "      <td>キングダム</td>\n",
              "      <td>5730</td>\n",
              "      <td>東宝/SPE</td>\n",
              "    </tr>\n",
              "    <tr>\n",
              "      <th>4</th>\n",
              "      <td>8月</td>\n",
              "      <td>劇場版「ONE PIECE STAMPEDE」</td>\n",
              "      <td>5550</td>\n",
              "      <td>東映</td>\n",
              "    </tr>\n",
              "    <tr>\n",
              "      <th>5</th>\n",
              "      <td>3月</td>\n",
              "      <td>映画ドラえもん のび太の月面探査記</td>\n",
              "      <td>5020</td>\n",
              "      <td>東宝</td>\n",
              "    </tr>\n",
              "  </tbody>\n",
              "</table>\n",
              "</div>"
            ],
            "text/plain": [
              "     release_date                    title  box_office  agency\n",
              "rank                                                          \n",
              "1              7月                     天気の子       14190      東宝\n",
              "2              4月        名探偵コナン 紺青の拳(フィスト)        9370      東宝\n",
              "3              4月                    キングダム        5730  東宝/SPE\n",
              "4              8月  劇場版「ONE PIECE STAMPEDE」        5550      東映\n",
              "5              3月        映画ドラえもん のび太の月面探査記        5020      東宝"
            ]
          },
          "metadata": {
            "tags": []
          },
          "execution_count": 182
        }
      ]
    },
    {
      "cell_type": "code",
      "metadata": {
        "id": "hZE-cZ1SgL7k"
      },
      "source": [
        "df['release_year'] = list(pd.Series(df.index).apply(lambda x: target_year))\n",
        "df['release_month'] = list(pd.Series(df.index).apply(lambda x: 0))\n",
        "\n",
        "for index, row in df.iterrows():\n",
        "  date = row['release_date'].split('/')\n",
        "\n",
        "  if len(date) > 1:\n",
        "    df.iat[index-1, 4] = int(date[0]) + 2000\n",
        "\n",
        "  df.iat[index-1, 5] = date[-1].replace('月', '')\n",
        "\n",
        "df.drop(columns=['release_date'], inplace=True)"
      ],
      "execution_count": 183,
      "outputs": []
    },
    {
      "cell_type": "code",
      "metadata": {
        "colab": {
          "base_uri": "https://localhost:8080/",
          "height": 235
        },
        "id": "iExhWaaSpEEI",
        "outputId": "17ce76bf-b2bd-44ab-b11c-f1bb3738bf58"
      },
      "source": [
        "df = df.reindex(columns=['release_year', 'release_month', 'title', 'box_office', 'agency'])\n",
        "df.head()"
      ],
      "execution_count": 184,
      "outputs": [
        {
          "output_type": "execute_result",
          "data": {
            "text/html": [
              "<div>\n",
              "<style scoped>\n",
              "    .dataframe tbody tr th:only-of-type {\n",
              "        vertical-align: middle;\n",
              "    }\n",
              "\n",
              "    .dataframe tbody tr th {\n",
              "        vertical-align: top;\n",
              "    }\n",
              "\n",
              "    .dataframe thead th {\n",
              "        text-align: right;\n",
              "    }\n",
              "</style>\n",
              "<table border=\"1\" class=\"dataframe\">\n",
              "  <thead>\n",
              "    <tr style=\"text-align: right;\">\n",
              "      <th></th>\n",
              "      <th>release_year</th>\n",
              "      <th>release_month</th>\n",
              "      <th>title</th>\n",
              "      <th>box_office</th>\n",
              "      <th>agency</th>\n",
              "    </tr>\n",
              "    <tr>\n",
              "      <th>rank</th>\n",
              "      <th></th>\n",
              "      <th></th>\n",
              "      <th></th>\n",
              "      <th></th>\n",
              "      <th></th>\n",
              "    </tr>\n",
              "  </thead>\n",
              "  <tbody>\n",
              "    <tr>\n",
              "      <th>1</th>\n",
              "      <td>2019</td>\n",
              "      <td>7</td>\n",
              "      <td>天気の子</td>\n",
              "      <td>14190</td>\n",
              "      <td>東宝</td>\n",
              "    </tr>\n",
              "    <tr>\n",
              "      <th>2</th>\n",
              "      <td>2019</td>\n",
              "      <td>4</td>\n",
              "      <td>名探偵コナン 紺青の拳(フィスト)</td>\n",
              "      <td>9370</td>\n",
              "      <td>東宝</td>\n",
              "    </tr>\n",
              "    <tr>\n",
              "      <th>3</th>\n",
              "      <td>2019</td>\n",
              "      <td>4</td>\n",
              "      <td>キングダム</td>\n",
              "      <td>5730</td>\n",
              "      <td>東宝/SPE</td>\n",
              "    </tr>\n",
              "    <tr>\n",
              "      <th>4</th>\n",
              "      <td>2019</td>\n",
              "      <td>8</td>\n",
              "      <td>劇場版「ONE PIECE STAMPEDE」</td>\n",
              "      <td>5550</td>\n",
              "      <td>東映</td>\n",
              "    </tr>\n",
              "    <tr>\n",
              "      <th>5</th>\n",
              "      <td>2019</td>\n",
              "      <td>3</td>\n",
              "      <td>映画ドラえもん のび太の月面探査記</td>\n",
              "      <td>5020</td>\n",
              "      <td>東宝</td>\n",
              "    </tr>\n",
              "  </tbody>\n",
              "</table>\n",
              "</div>"
            ],
            "text/plain": [
              "      release_year  release_month                    title  box_office  agency\n",
              "rank                                                                          \n",
              "1             2019              7                     天気の子       14190      東宝\n",
              "2             2019              4        名探偵コナン 紺青の拳(フィスト)        9370      東宝\n",
              "3             2019              4                    キングダム        5730  東宝/SPE\n",
              "4             2019              8  劇場版「ONE PIECE STAMPEDE」        5550      東映\n",
              "5             2019              3        映画ドラえもん のび太の月面探査記        5020      東宝"
            ]
          },
          "metadata": {
            "tags": []
          },
          "execution_count": 184
        }
      ]
    }
  ]
}