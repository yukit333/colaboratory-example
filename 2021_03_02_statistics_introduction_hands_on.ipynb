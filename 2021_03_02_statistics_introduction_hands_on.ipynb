{
  "nbformat": 4,
  "nbformat_minor": 0,
  "metadata": {
    "colab": {
      "name": "2021-03-02_statistics-introduction-hands-on",
      "provenance": [],
      "collapsed_sections": [],
      "authorship_tag": "ABX9TyNQ87fbz7TnBKAprz5msJBC"
    },
    "kernelspec": {
      "display_name": "Python 3",
      "name": "python3"
    }
  },
  "cells": [
    {
      "cell_type": "markdown",
      "metadata": {
        "id": "k7mJhxqiFxGT"
      },
      "source": [
        "完全独習 統計学入門 | 小島 寛之 |本 | 通販 | Amazon  \n",
        "https://www.amazon.co.jp/dp/4478820090/"
      ]
    },
    {
      "cell_type": "markdown",
      "metadata": {
        "id": "z3QGJhe2zUSh"
      },
      "source": [
        "# ライブラリなど"
      ]
    },
    {
      "cell_type": "code",
      "metadata": {
        "id": "99lrXH-yzU7f"
      },
      "source": [
        "%matplotlib inline\n",
        "\n",
        "import math\n",
        "\n",
        "import pandas as pd\n",
        "import numpy as np\n",
        "import matplotlib.pyplot as plt\n",
        "import seaborn as sns"
      ],
      "execution_count": 43,
      "outputs": []
    },
    {
      "cell_type": "markdown",
      "metadata": {
        "id": "NcaukeUIzNah"
      },
      "source": [
        "# 第一章\n",
        "----"
      ]
    },
    {
      "cell_type": "markdown",
      "metadata": {
        "id": "yK85EbanPM3E"
      },
      "source": [
        "**度数分布表とヒストグラム**\n",
        "\n",
        "seaborn.histplot — seaborn 0.11.1 documentation  \n",
        "https://seaborn.pydata.org/generated/seaborn.histplot.html\n",
        "\n",
        "*※ 書籍中で使われている女子大学生の身長データでいい感じのが見つからないので他のデータセットで代用*"
      ]
    },
    {
      "cell_type": "code",
      "metadata": {
        "colab": {
          "base_uri": "https://localhost:8080/",
          "height": 280
        },
        "id": "z472BbbnzkIL",
        "outputId": "60251261-32e8-427a-927e-77e1398e06c5"
      },
      "source": [
        "# アヤメのデータセットを仕様\n",
        "iris = sns.load_dataset('iris')\n",
        "\n",
        "# binを指定\n",
        "data_length = iris.shape[0]\n",
        "bins = round(1 + math.log2(data_length))\n",
        "\n",
        "sns.histplot(data=iris, x='sepal_width', bins=bins, color='#111', label='Iris', kde=False)\n",
        "# KDE ... カーネル密度推定\n",
        "\n",
        "plt.legend() # 凡例を表示\n",
        "plt.show()"
      ],
      "execution_count": 53,
      "outputs": [
        {
          "output_type": "display_data",
          "data": {
            "image/png": "[encoded data removed]",
            "text/plain": [
              "<Figure size 432x288 with 1 Axes>"
            ]
          },
          "metadata": {
            "tags": [],
            "needs_background": "light"
          }
        }
      ]
    },
    {
      "cell_type": "markdown",
      "metadata": {
        "id": "T0Uod3nGxQpv"
      },
      "source": [
        "**平均値**"
      ]
    },
    {
      "cell_type": "code",
      "metadata": {
        "colab": {
          "base_uri": "https://localhost:8080/"
        },
        "id": "Cx1FSCgy_GdM",
        "outputId": "9e58347a-f2bb-4203-85db-cbda8ee433d7"
      },
      "source": [
        "# アヤメのデータセットを仕様\n",
        "iris = sns.load_dataset('iris')\n",
        "\n",
        "# 算術平均\n",
        "print('Arithmetic mean: ', iris['petal_width'].mean())\n",
        "\n",
        "# 幾何平均 （相乗平均）\n",
        "\n",
        "# 二条平均\n",
        "\n",
        "# 調和平均"
      ],
      "execution_count": 57,
      "outputs": [
        {
          "output_type": "stream",
          "text": [
            "Arithmetic mean:  1.199333333333334\n"
          ],
          "name": "stdout"
        }
      ]
    },
    {
      "cell_type": "markdown",
      "metadata": {
        "id": "q6p77yxuxwBB"
      },
      "source": [
        "分散と標準偏差"
      ]
    },
    {
      "cell_type": "markdown",
      "metadata": {
        "id": "9aew5tKex4td"
      },
      "source": [
        "標準偏差"
      ]
    },
    {
      "cell_type": "markdown",
      "metadata": {
        "id": "7nbhnKEHy7RV"
      },
      "source": [
        "正規分布"
      ]
    },
    {
      "cell_type": "markdown",
      "metadata": {
        "id": "6D4LQjYGy_DK"
      },
      "source": [
        "仮説検定"
      ]
    },
    {
      "cell_type": "markdown",
      "metadata": {
        "id": "GZFIx1ntx6UX"
      },
      "source": [
        "区間推定"
      ]
    }
  ]
}